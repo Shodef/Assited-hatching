{
  "nbformat": 4,
  "nbformat_minor": 0,
  "metadata": {
    "colab": {
      "provenance": [],
      "include_colab_link": true
    },
    "kernelspec": {
      "name": "python3",
      "display_name": "Python 3"
    },
    "language_info": {
      "name": "python"
    }
  },
  "cells": [
    {
      "cell_type": "markdown",
      "metadata": {
        "id": "view-in-github",
        "colab_type": "text"
      },
      "source": [
        "<a href=\"https://colab.research.google.com/github/Shodef/Assited-hatching/blob/main/%E2%80%9Cpubmed_ipynb%E2%80%9D%E7%9A%84%E5%89%AF%E6%9C%AC.ipynb\" target=\"_parent\"><img src=\"https://colab.research.google.com/assets/colab-badge.svg\" alt=\"Open In Colab\"/></a>"
      ]
    },
    {
      "cell_type": "code",
      "execution_count": null,
      "metadata": {
        "colab": {
          "base_uri": "https://localhost:8080/"
        },
        "id": "lzjNxcoY5OkI",
        "outputId": "537599cf-e3e2-4c89-9232-ca60e469a527"
      },
      "outputs": [
        {
          "output_type": "stream",
          "name": "stdout",
          "text": [
            "Collecting biopython\n",
            "  Downloading biopython-1.81-cp310-cp310-manylinux_2_17_x86_64.manylinux2014_x86_64.whl (3.1 MB)\n",
            "\u001b[2K     \u001b[90m━━━━━━━━━━━━━━━━━━━━━━━━━━━━━━━━━━━━━━━━\u001b[0m \u001b[32m3.1/3.1 MB\u001b[0m \u001b[31m9.6 MB/s\u001b[0m eta \u001b[36m0:00:00\u001b[0m\n",
            "\u001b[?25hRequirement already satisfied: pandas in /usr/local/lib/python3.10/dist-packages (1.5.3)\n",
            "Collecting googletrans==4.0.0-rc1\n",
            "  Downloading googletrans-4.0.0rc1.tar.gz (20 kB)\n",
            "  Preparing metadata (setup.py) ... \u001b[?25l\u001b[?25hdone\n",
            "Collecting python-docx\n",
            "  Downloading python-docx-0.8.11.tar.gz (5.6 MB)\n",
            "\u001b[2K     \u001b[90m━━━━━━━━━━━━━━━━━━━━━━━━━━━━━━━━━━━━━━━━\u001b[0m \u001b[32m5.6/5.6 MB\u001b[0m \u001b[31m23.0 MB/s\u001b[0m eta \u001b[36m0:00:00\u001b[0m\n",
            "\u001b[?25h  Preparing metadata (setup.py) ... \u001b[?25l\u001b[?25hdone\n",
            "Collecting httpx==0.13.3 (from googletrans==4.0.0-rc1)\n",
            "  Downloading httpx-0.13.3-py3-none-any.whl (55 kB)\n",
            "\u001b[2K     \u001b[90m━━━━━━━━━━━━━━━━━━━━━━━━━━━━━━━━━━━━━━━━\u001b[0m \u001b[32m55.1/55.1 kB\u001b[0m \u001b[31m1.9 MB/s\u001b[0m eta \u001b[36m0:00:00\u001b[0m\n",
            "\u001b[?25hRequirement already satisfied: certifi in /usr/local/lib/python3.10/dist-packages (from httpx==0.13.3->googletrans==4.0.0-rc1) (2023.5.7)\n",
            "Collecting hstspreload (from httpx==0.13.3->googletrans==4.0.0-rc1)\n",
            "  Downloading hstspreload-2023.1.1-py3-none-any.whl (1.5 MB)\n",
            "\u001b[2K     \u001b[90m━━━━━━━━━━━━━━━━━━━━━━━━━━━━━━━━━━━━━━━━\u001b[0m \u001b[32m1.5/1.5 MB\u001b[0m \u001b[31m23.1 MB/s\u001b[0m eta \u001b[36m0:00:00\u001b[0m\n",
            "\u001b[?25hRequirement already satisfied: sniffio in /usr/local/lib/python3.10/dist-packages (from httpx==0.13.3->googletrans==4.0.0-rc1) (1.3.0)\n",
            "Collecting chardet==3.* (from httpx==0.13.3->googletrans==4.0.0-rc1)\n",
            "  Downloading chardet-3.0.4-py2.py3-none-any.whl (133 kB)\n",
            "\u001b[2K     \u001b[90m━━━━━━━━━━━━━━━━━━━━━━━━━━━━━━━━━━━━━━━\u001b[0m \u001b[32m133.4/133.4 kB\u001b[0m \u001b[31m7.6 MB/s\u001b[0m eta \u001b[36m0:00:00\u001b[0m\n",
            "\u001b[?25hCollecting idna==2.* (from httpx==0.13.3->googletrans==4.0.0-rc1)\n",
            "  Downloading idna-2.10-py2.py3-none-any.whl (58 kB)\n",
            "\u001b[2K     \u001b[90m━━━━━━━━━━━━━━━━━━━━━━━━━━━━━━━━━━━━━━━━\u001b[0m \u001b[32m58.8/58.8 kB\u001b[0m \u001b[31m3.9 MB/s\u001b[0m eta \u001b[36m0:00:00\u001b[0m\n",
            "\u001b[?25hCollecting rfc3986<2,>=1.3 (from httpx==0.13.3->googletrans==4.0.0-rc1)\n",
            "  Downloading rfc3986-1.5.0-py2.py3-none-any.whl (31 kB)\n",
            "Collecting httpcore==0.9.* (from httpx==0.13.3->googletrans==4.0.0-rc1)\n",
            "  Downloading httpcore-0.9.1-py3-none-any.whl (42 kB)\n",
            "\u001b[2K     \u001b[90m━━━━━━━━━━━━━━━━━━━━━━━━━━━━━━━━━━━━━━━━\u001b[0m \u001b[32m42.6/42.6 kB\u001b[0m \u001b[31m2.2 MB/s\u001b[0m eta \u001b[36m0:00:00\u001b[0m\n",
            "\u001b[?25hCollecting h11<0.10,>=0.8 (from httpcore==0.9.*->httpx==0.13.3->googletrans==4.0.0-rc1)\n",
            "  Downloading h11-0.9.0-py2.py3-none-any.whl (53 kB)\n",
            "\u001b[2K     \u001b[90m━━━━━━━━━━━━━━━━━━━━━━━━━━━━━━━━━━━━━━━━\u001b[0m \u001b[32m53.6/53.6 kB\u001b[0m \u001b[31m3.0 MB/s\u001b[0m eta \u001b[36m0:00:00\u001b[0m\n",
            "\u001b[?25hCollecting h2==3.* (from httpcore==0.9.*->httpx==0.13.3->googletrans==4.0.0-rc1)\n",
            "  Downloading h2-3.2.0-py2.py3-none-any.whl (65 kB)\n",
            "\u001b[2K     \u001b[90m━━━━━━━━━━━━━━━━━━━━━━━━━━━━━━━━━━━━━━━━\u001b[0m \u001b[32m65.0/65.0 kB\u001b[0m \u001b[31m3.9 MB/s\u001b[0m eta \u001b[36m0:00:00\u001b[0m\n",
            "\u001b[?25hCollecting hyperframe<6,>=5.2.0 (from h2==3.*->httpcore==0.9.*->httpx==0.13.3->googletrans==4.0.0-rc1)\n",
            "  Downloading hyperframe-5.2.0-py2.py3-none-any.whl (12 kB)\n",
            "Collecting hpack<4,>=3.0 (from h2==3.*->httpcore==0.9.*->httpx==0.13.3->googletrans==4.0.0-rc1)\n",
            "  Downloading hpack-3.0.0-py2.py3-none-any.whl (38 kB)\n",
            "Requirement already satisfied: numpy in /usr/local/lib/python3.10/dist-packages (from biopython) (1.22.4)\n",
            "Requirement already satisfied: python-dateutil>=2.8.1 in /usr/local/lib/python3.10/dist-packages (from pandas) (2.8.2)\n",
            "Requirement already satisfied: pytz>=2020.1 in /usr/local/lib/python3.10/dist-packages (from pandas) (2022.7.1)\n",
            "Requirement already satisfied: lxml>=2.3.2 in /usr/local/lib/python3.10/dist-packages (from python-docx) (4.9.3)\n",
            "Requirement already satisfied: six>=1.5 in /usr/local/lib/python3.10/dist-packages (from python-dateutil>=2.8.1->pandas) (1.16.0)\n",
            "Building wheels for collected packages: googletrans, python-docx\n",
            "  Building wheel for googletrans (setup.py) ... \u001b[?25l\u001b[?25hdone\n",
            "  Created wheel for googletrans: filename=googletrans-4.0.0rc1-py3-none-any.whl size=17397 sha256=0b1ad85b02d1aec5e090247e986e2e2128330329bf428538352361f421f04f6e\n",
            "  Stored in directory: /root/.cache/pip/wheels/c0/59/9f/7372f0cf70160fe61b528532e1a7c8498c4becd6bcffb022de\n",
            "  Building wheel for python-docx (setup.py) ... \u001b[?25l\u001b[?25hdone\n",
            "  Created wheel for python-docx: filename=python_docx-0.8.11-py3-none-any.whl size=184491 sha256=01881fa723a46582d7ee522c38228d5761fd5598dfa3e8e3cd5abc84f01b2620\n",
            "  Stored in directory: /root/.cache/pip/wheels/80/27/06/837436d4c3bd989b957a91679966f207bfd71d358d63a8194d\n",
            "Successfully built googletrans python-docx\n",
            "Installing collected packages: rfc3986, hyperframe, hpack, h11, chardet, python-docx, idna, hstspreload, h2, biopython, httpcore, httpx, googletrans\n",
            "  Attempting uninstall: chardet\n",
            "    Found existing installation: chardet 4.0.0\n",
            "    Uninstalling chardet-4.0.0:\n",
            "      Successfully uninstalled chardet-4.0.0\n",
            "  Attempting uninstall: idna\n",
            "    Found existing installation: idna 3.4\n",
            "    Uninstalling idna-3.4:\n",
            "      Successfully uninstalled idna-3.4\n",
            "Successfully installed biopython-1.81 chardet-3.0.4 googletrans-4.0.0rc1 h11-0.9.0 h2-3.2.0 hpack-3.0.0 hstspreload-2023.1.1 httpcore-0.9.1 httpx-0.13.3 hyperframe-5.2.0 idna-2.10 python-docx-0.8.11 rfc3986-1.5.0\n"
          ]
        }
      ],
      "source": [
        "pip install biopython pandas googletrans==4.0.0-rc1 python-docx"
      ]
    },
    {
      "cell_type": "code",
      "source": [],
      "metadata": {
        "id": "W_BeaOUnHrLF"
      },
      "execution_count": null,
      "outputs": []
    },
    {
      "cell_type": "code",
      "source": [
        "import pandas as pd\n",
        "from Bio import Entrez\n",
        "from googletrans import Translator\n",
        "from docx import Document\n",
        "\n",
        "# 设置你的email，Entrez需要用到\n",
        "Entrez.email = \"liuchangdong007@gmail.com\"\n",
        "\n",
        "# 使用Entrez搜索PubMed\n",
        "search_results = Entrez.read(\n",
        "    Entrez.esearch(\n",
        "        db=\"pubmed\", term=\"Assisted hatching of the embryos\", retmax=500\n",
        "    )\n",
        ")\n",
        "\n",
        "# 获取所有文章的ID\n",
        "id_list = search_results[\"IdList\"]\n",
        "\n",
        "# 获取所有文章的详细信息\n",
        "articles = Entrez.read(Entrez.efetch(db=\"pubmed\", id=id_list, retmode=\"xml\"))\n",
        "\n",
        "article_data = []\n",
        "\n",
        "\n",
        "# 遍历每篇文章\n",
        "for article in articles[\"PubmedArticle\"]:\n",
        "    title = article[\"MedlineCitation\"][\"Article\"][\"ArticleTitle\"]\n",
        "\n",
        "    # 检查 'Abstract' 是否存在\n",
        "    if \"Abstract\" in article[\"MedlineCitation\"][\"Article\"]:\n",
        "        abstract_parts = article[\"MedlineCitation\"][\"Article\"][\"Abstract\"][\"AbstractText\"]\n",
        "        # AbstractText 可能是一个字符串，也可能是一个字符串列表\n",
        "        if isinstance(abstract_parts, list):\n",
        "            abstract = \" \".join(abstract_parts)\n",
        "        elif abstract_parts is None:\n",
        "            abstract = \"No Abstract\"\n",
        "        else:\n",
        "            abstract = abstract_parts\n",
        "    else:\n",
        "        abstract = \"No Abstract\"\n",
        "\n",
        "    authors = []\n",
        "    for au in article[\"MedlineCitation\"][\"Article\"][\"AuthorList\"]:\n",
        "        # 检查 'LastName' 和 'Initials' 是否存在\n",
        "        if 'LastName' in au and 'Initials' in au:\n",
        "            authors.append(au[\"LastName\"] + \" \" + au[\"Initials\"])\n",
        "\n",
        "    journal = article[\"MedlineCitation\"][\"Article\"][\"Journal\"][\"Title\"]\n",
        "    pub_date = article[\"MedlineCitation\"][\"Article\"][\"Journal\"][\"JournalIssue\"][\"PubDate\"]\n",
        "\n",
        "    # 使用googletrans将摘要翻译为中文，前提是摘要不为空\n",
        "    if abstract != \"No Abstract\":\n",
        "        translator = Translator()\n",
        "        try:\n",
        "            translation = translator.translate(abstract, dest='zh-cn')\n",
        "            abstract_cn = translation.text\n",
        "        except Exception as e:\n",
        "            print(f\"An error occurred while translating the abstract: {abstract}\")\n",
        "            print(f\"Error: {e}\")\n",
        "            abstract_cn = \"Translation failed\"\n",
        "    else:\n",
        "        abstract_cn = \"No Abstract\"\n",
        "\n",
        "    # 将文章信息添加到数据列表中\n",
        "    article_data.append([title, abstract, authors, journal, pub_date, abstract_cn])\n",
        "\n",
        "\n",
        "# 将数据列表转换为pandas DataFrame\n",
        "df = pd.DataFrame(article_data, columns=[\"Title\", \"Abstract\", \"Authors\", \"Journal\", \"Publication Date\", \"Abstract in Chinese\"])\n",
        "\n",
        "# 创建一个新的Word文档\n",
        "doc = Document()\n",
        "\n",
        "# 将每篇文章的信息添加到Word文档中\n",
        "for index, row in df.iterrows():\n",
        "    doc.add_heading('Title: ', level=1)\n",
        "    doc.add_paragraph(row['Title'])\n",
        "    doc.add_heading('Abstract: ', level=2)\n",
        "    doc.add_paragraph(row['Abstract'])\n",
        "    doc.add_heading('Authors: ', level=2)\n",
        "    doc.add_paragraph(', '.join(row['Authors']))\n",
        "    doc.add_heading('Journal: ', level=2)\n",
        "    doc.add_paragraph(row['Journal'])\n",
        "    doc.add_heading('Publication Date: ', level=2)\n",
        "    doc.add_paragraph(str(row['Publication Date']))\n",
        "    doc.add_heading('Abstract in Chinese: ', level=2)\n",
        "    doc.add_paragraph(row['Abstract in Chinese'])\n",
        "    doc.add_paragraph(\"\\n\\n\")\n",
        "\n",
        "# 保存Word文档\n",
        "doc.save('embryo_assisted_hatching_articles.docx')\n"
      ],
      "metadata": {
        "colab": {
          "base_uri": "https://localhost:8080/"
        },
        "id": "x_FmoGPv5bmS",
        "outputId": "9eaaaef4-8bb2-4bb9-9126-874c79c33823"
      },
      "execution_count": null,
      "outputs": [
        {
          "output_type": "stream",
          "name": "stdout",
          "text": [
            "An error occurred while translating the abstract: What is the clinical value of Day 7 blastocysts? Ending embryo culture at 144 hours post-insemination (h.p.i.; i.e. 6 days) would involve 7.3% and 4.4% relative reductions in the number of patients obtaining euploid blastocysts and live birth(s) (LBs), respectively. Many studies showed that Day 7 blastocysts are clinically valuable, although less euploid and less competent than faster-growing embryos. Nevertheless, a large variability exists in: (i) the definition of 'Day 7'; (ii) the criteria to culture embryos to Day 7; (iii) the clinical setting; (iv) the local regulation; and/or (v) the culture strategies and incubators. Here, we aimed to iron out these differences and portray Day 7 blastocysts with the lowest possible risk of bias. To this end, we have also adopted an artificial intelligence (AI)-powered software to automatize developmental timings annotations and standardize embryo morphological assessment. Observational study including 1966 blastocysts obtained from 681 patients cultured in a time-lapse incubator between January 2013 and December 2020 at a private Italian IVF center. According to Italian Law 40/2004, embryos were not selected based on their morphology and culture to ≥168 h.p.i. is standard care at our center. ICSI, continuous culture with Day 5 media refresh, trophectoderm biopsy without assisted hatching and comprehensive chromosome testing (CCT) to diagnose full-chromosome non-mosaic aneuploidies, were all performed. Blastocysts were clustered in six groups based on the time of biopsy in h.p.i. at 12 hr intervals starting from <120 h.p.i. (set as control) up to >168 h.p.i. Blastocyst quality was assessed using Gardner's scheme and confirmed with AI-powered software. AI was also used to automatically annotate the time of expanding blastocyst (tEB) and the hours elapsing between this moment and the achievement of full expansion when blastocysts were biopsied and vitrified. Also, blastocyst area at tEB and at the time of biopsy was automatically assessed, as well as the hour of the working day when the procedure was performed. The main outcomes were the euploidy rate and the LB rate (LBR) per vitrified-warmed euploid single blastocyst transfer. The results were adjusted for confounders through multivariate logistic regressions. To increase their generalizability, the main outcomes were reported also based on a 144-h.p.i. cutoff (i.e. 6 exact days from ICSI). Based on this cutoff, all the main patient outcomes (i.e. number of patients obtaining blastocysts, euploid blastocysts, LBs, with supernumerary blastocysts without a LB and with surplus blastocysts after an LB) were also reported versus the standard care (>168 h.p.i.). All hypothetical relative reductions were calculated. A total of 14.6% of the blastocysts reached full expansion beyond 144 h.p.i. (5.9% in the range 144-156 h.p.i., 7.9% in the range 156-168 h.p.i. and 0.8% beyond 168 h.p.i.). Slower blastocysts were of a worse quality based on the evaluation of both embryologists and AI. Both later tEB and longer time between tEB and full blastocyst expansion concurred to Day 7 development, quite independently of blastocyst quality. Slower growing blastocysts were slightly larger than faster-growing ones at the time of biopsy, but no difference was reported in the risk of hatching, mainly because two dedicated slots have been set along the working day for these procedures. The lower euploidy rate among Day 7 blastocysts is due to their worse morphology and more advanced oocyte age, rather than to a slower development per se. Conversely, the lower LBR was significant even after adjusting for confounders, with a first relevant decrease for blastocysts biopsied in the range 132-144 h.p.i. (N = 76/208, 36.5% versus N = 114/215, 53.0% in the control, multivariate odds ratio 0.61, 95% CI 0.40-0.92, adjusted-P = 0.02), and a second step for blastocysts biopsied in the range 156-168 h.p.i. (N = 3/21, 14.3%, multivariate odds ratio: 0.24, 95% CI 0.07-0.88, adjusted-P = 0.03). Nevertheless, when the cutoff was set at 144 h.p.i., no significant difference was reported. In this patient population, ending embryo culture at 144 h.p.i. would have caused 10.6%, 7.3%, 4.4%, 13.7% and 5.2% relative reductions in the number of patients obtaining blastocysts, euploid blastocysts, LBs, supernumerary blastocysts without an LB and surplus blastocysts after an LB, respectively. Gestational and perinatal outcomes were not assessed, and a cost-effectiveness analysis is missing. Moreover, we encourage other groups to investigate this topic with different culture and biopsy protocols, as well as in different clinical settings and regulatory contexts. In view of the increasing personalization and patient-centeredness of IVF, whenever allowed from the local regulations, the choice to culture embryos to Day 7 should be grounded on the careful evaluation of couples' reproductive history. Patients should be aware that Day 7 blastocysts are less competent than faster-growing ones; still, poor prognosis couples, couples less compliant toward other attempts in case of a failure and couples wishing for more than one child, may benefit from them. AI tools can help improving the generalizability of the evidence worldwide. This study did not receive any funding. I.E., A.B.M. and I.H.-V. are employees of Fairtility Ltd. N/A.\n",
            "Error: the JSON object must be str, bytes or bytearray, not NoneType\n",
            "An error occurred while translating the abstract: Are the reproductive outcomes (clinical, obstetric and perinatal) different between follicular phase stimulation (FPS)- and luteal phase stimulation (LPS)-derived euploid blastocysts? No difference was observed between FPS- and LPS-derived euploid blastocysts after vitrified-warmed single embryo transfer (SET). Technical improvements in IVF allow the implementation non-conventional controlled ovarian stimulation (COS) protocols for oncologic and poor prognosis patients. One of these protocols begins LPS 5 days after FPS is ended (DuoStim). Although, several studies have reported similar embryological outcomes (e.g. fertilization, blastulation, euploidy) between FPS- and LPS-derived cohort of oocytes, information on the reproductive (clinical, obstetric and perinatal) outcomes of LPS-derived blastocysts is limited to small and retrospective studies. Multicenter study conducted between October 2015 and March 2019 including all vitrified-warmed euploid single blastocyst transfers after DuoStim. Only first transfers of good quality blastocysts (≥BB according to Gardner and Schoolcraft's classification) were included. If euploid blastocysts obtained after both FPS and LPS were available the embryo to transfer was chosen blindly. The primary outcome was the live birth rate (LBR) per vitrified-warmed single euploid blastocyst transfer in the two groups. To achieve 80% power (α = 0.05) to rule-out a 15% difference in the LBR, a total of 366 first transfers were required. Every other clinical, as well as obstetric and perinatal outcomes, were recorded. Throughout the study period, 827 patients concluded a DuoStim cycle and among them, 339 did not identify any transferable blastocyst, 145 had an euploid blastocyst after FPS, 186 after LPS and 157 after both FPS and LPS. Fifty transfers of poor quality euploid blastocysts were excluded and 49 patients did not undergo an embryo transfer during the study period. Thus, 389 patients had a vitrified-warmed SET of a good quality euploid blastocyst (182 after FPS and 207 after LPS). For 126 cases (32%) where both FPS- and LPS-derived good quality blastocysts were available, the embryo transferred was chosen blindly with a 'True Random Number Generator' function where '0' stood for FPS-derived euploid blastocysts and '1' for LPS-derived ones (n = 70 and 56, respectively) on the website random.org. All embryos were obtained with the same ovarian stimulation protocol in FPS and LPS (GnRH antagonist protocol with fixed dose of rec-FSH plus rec-LH and GnRH-agonist trigger), culture conditions (continuous culture in a humidified atmosphere with 37°C, 6% CO2 and 5% O2) and laboratory protocols (ICSI, trophectoderm biopsy in Day 5-7 without assisted hatching in Day 3, vitrification and comprehensive chromosome testing). The women whose embryos were included had similar age (FPS: 38.5 ± 3.1 and LPS: 38.5 ± 3.2 years), prevalence of male factor, antral follicle count, basal hormonal characteristics, main cause of infertility and previous reproductive history (i.e. previous live births, miscarriages and implantation failures) whether the embryo came from FPS or LPS. All transfers were conducted after warming in an artificial cycle. The blastocysts transferred after FPS and LPS were similar in terms of day of full-development and morphological quality. The positive pregnancy test rates for FPS- and LPS-derived euploid blastocysts were 57% and 62%, biochemical pregnancy loss rates were 10% and 8%, miscarriage rates were 15% and 14% and LBRs were 44% (n = 80/182, 95% CI 37-51%) and 49% (n = 102/207, 95% CI 42-56%; P = 0.3), respectively. The overall odds ratio for live birth (LPS vs FPS (reference)) adjusted for day of blastocyst development and quality, was 1.3, 95% CI 0.8-2.0, P = 0.2. Among patients with euploid blastocysts obtained following both FPS and LPS, the LBRs were also similar (53% (n = 37/70, 95% CI 41-65%) and 48% (n = 27/56, 95% CI 35-62%) respectively; P = 0.7). Gestational issues were experienced by 7.5% of pregnant women after FPS- and 10% of women following LPS-derived euploid single blastocyst transfer. Perinatal issues were reported in 5% and 0% of the FPS- and LPS-derived newborns, respectively. The gestational weeks and birthweight were similar in the two groups. A 5% pre-term delivery rate was reported in both groups. A low birthweight was registered in 2.5% and 5% of the newborns, while 4% and 7% showed high birthweight, in FPS- and LPS-derived euploid blastocyst, respectively. Encompassing the 81 FPS-derived newborns, a total of 9% were small and 11% large for gestational age. Among the 102 LPS-derived newborns, 8% were small and 6% large for gestational age. No significant difference was reported for all these comparisons. The LPS-derived blastocysts were all obtained after FPS in a DuoStim protocol. Therefore, studies are required with LPS-only, late-FPS and random start approaches. The study is powered to assess differences in the LBR per embryo transfer, therefore obstetric and perinatal outcomes should be considered observational. Although prospective, the study was not registered. This study represents a further backing of the safety of non-conventional COS protocols. Therefore, LPS after FPS (DuoStim protocol) is confirmed a feasible and efficient approach also from clinical, obstetric and perinatal perspectives, targeted at patients who need to reach the transfer of an euploid blastocyst in the shortest timeframe possible due to reasons such as cancer, advanced maternal age and/or reduced ovarian reserve and poor ovarian response. None. N/A.\n",
            "Error: the JSON object must be str, bytes or bytearray, not NoneType\n",
            "An error occurred while translating the abstract: Are trophectoderm biopsy or other pre-vitrification features or laboratory practices associated with differences in blastocyst post-warming behavior (degeneration, re-expansion and live birth after single embryo transfer (SET))? Blastocyst morphology, day of full development and artificial shrinkage (either laser-assisted or biopsy-induced) are the pre-vitrification parameters/practices most strongly associated with post-warming behavior and implantation potential while there was no association with trophectoderm biopsy. Since the introduction of vitrification, the adoption of cycle segmentation, freeze-all and SET policies, as well of trophectoderm biopsy-based aneuploidy testing (i.e. pre-implantation genetic testing for aneuploidies (PGT-A)), the number of blastocysts vitrified worldwide has increased greatly. Previous studies already defined generally high blastocyst cryo-survival rates after vitrification-warming (>95%), along with a positive correlation between blastocyst re-expansion and morphology with implantation. Additionally, artificial shrinkage has been outlined as a potentially beneficial procedure, while the association between embryo cryo-survival and trophectoderm biopsy is still unclear. Cohort study conducted at two IVF centers (1 and 2). A total of 2129 consecutive SETs using vitrified-warmed blastocysts in either non-PGT or PGT-A cycles between June 2016 and August 2017 were included. A freeze-all strategy was in place and three main pre-vitrification practices were used: (i) no biopsy and no artificial shrinkage (Clinic 1); (ii) trophectoderm biopsy and vitrification of collapsed blastocyst within 30 min (Clinics 1 and 2); and (iii) no biopsy but laser-assisted artificial shrinkage (Clinic 2). The primary outcome was the blastocyst degeneration rate. Overall, 2108 surviving blastocysts were graded at 1.5 h after warming for degeneration (absent or partial) and re-expansion (full, partial or absent) grades and post-warming morphological quality. Logistic regression analyses were conducted to assess the association of any pre-vitrification feature with blastocyst post-warming behavior. The logistic regressions conducted upon live birth after either untested or euploid SET also included the post-warming characteristics. Center 1 is a private IVF facility, while center 2 is the IVF facility of a University hospital. In non-PGT cycles, ICSI with blastocyst culture up to full-expansion and vitrification were performed. At center 1 the untested blastocysts were vitrified when still expanded, while at center 2 they underwent laser-assisted artificial shrinkage. In PGT-A cycles, in both clinics, trophectoderm biopsy (which involves laser-assisted shrinkage) was done without previous zona-opening on Day 3, and vitrification was performed within 30 min whilst the blastocyst remained collapsed. A qPCR-based chromosome analysis was conducted. Only SETs were performed (euploid-SET in case of PGT-A). Any cycle-, laboratory- and embryo-based feature which could impact blastocyst post-warming behavior was included in the analyses as putative confounder. The overall degeneration rate was 1% (N = 21/2129). The results were consistent among different vitrification/warming operators or kits used, as well as any other IVF laboratory-related parameter. Blastocyst artificial shrinkage (either laser-assisted or biopsy-induced) involved a lower risk of degeneration after warming (odds ratio (OR) [95% CI] = 0.26 [0.09-0.79]). Conversely, both poor morphological quality pre-vitrification and taking 7 days to reach full blastulation resulted in a significantly higher risk (OR [95% CI] = 11.67 [3.42-39.83] and 4.43 [1.10-20.55], respectively). Importantly, trophectoderm biopsy did not show any association with blastocyst cryo-survival/degeneration. Overall 2.5% (N = 53/2108) blastocysts failed to re-expand post-warming. The only parameters significantly associated with no blastocyst re-expansion post-warming were average (OR [95% CI] = 4.96 [2.20-11.21]) or poor (OR [95% CI] = 19.54 [8.39-45.50]) morphological quality and taking 7 days to reach full blastulation (OR [95% CI] = 3.19 [1.23-8.29]), as well as prevention of spontaneous hatching pre-vitrification (OR [95% CI] = 0.10 [0.01-0.85]). The post-warming features of the survived blastocyst (i.e. degeneration and re-expansion scores and morphological quality) showed no significant association with vitrified blastocyst competence (i.e. live birth) when corrected for pre-vitrification ones (i.e. morphological quality, day of full development and, for untested SET, maternal age at oocyte retrieval). Of note, poor-quality blastocysts pre-vitrification showed a high overall cryo-survival rate post-warming 92.8% (N = 116/125), but the live birth rates were only 2.1% (N = 1/48) and 7.3% (N = 5/68) after untested and euploid SET, respectively. This study is not randomized and the populations of patients undergoing either non-PGT or PGT-A cycles were different. Centers 1 and 2 adopted different pre-vitrification practices for non-biopsied blastocysts, according to their own laboratory policy. To this regard, multivariate logistic regression analyses were conducted for all outcomes under investigation. Pre-vitrification features may be used to assist selection of competent embryos, moreover, these results allay concern that trophectoderm biopsy might be associated with impaired blastocyst quality or competence after vitrification/warming. None. None.\n",
            "Error: the JSON object must be str, bytes or bytearray, not NoneType\n"
          ]
        }
      ]
    }
  ]
}